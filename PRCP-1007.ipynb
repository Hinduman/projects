{
 "cells": [
  {
   "cell_type": "code",
   "execution_count": 25,
   "id": "07f180f3",
   "metadata": {},
   "outputs": [],
   "source": [
    "import numpy as np\n",
    "import pandas as pd\n",
    "import matplotlib.pyplot as plt\n",
    "import seaborn as sns\n",
    "from sklearn.linear_model import LogisticRegression\n",
    "from sklearn.svm import SVC\n",
    "from sklearn.tree import DecisionTreeClassifier\n",
    "from xgboost import XGBClassifier\n",
    "from sklearn.ensemble import RandomForestClassifier,BaggingClassifier,GradientBoostingClassifier\n",
    "from sklearn.model_selection import train_test_split,cross_val_score,GridSearchCV\n",
    "from sklearn.metrics import recall_score,precision_score,f1_score"
   ]
  },
  {
   "cell_type": "code",
   "execution_count": 2,
   "id": "ccc0ef2c",
   "metadata": {},
   "outputs": [],
   "source": [
    "cols=['Age','Gender','Total Bilirubin','Direct Bilirubin','Alkaline Phosphotase','Alamine Aminotransferase','Aspartate Aminotransferase','Total Protiens','Albumin','Albumin and Globulin Ratio','Target']\n",
    "data=pd.read_csv('ILPD.csv',names=cols)"
   ]
  },
  {
   "cell_type": "markdown",
   "id": "53f10a58",
   "metadata": {},
   "source": [
    "## Checking if there are any missing value and replace them with mean/median depending on the distribution of feature variable"
   ]
  },
  {
   "cell_type": "code",
   "execution_count": 3,
   "id": "81d760a1",
   "metadata": {},
   "outputs": [
    {
     "name": "stdout",
     "output_type": "stream",
     "text": [
      "<class 'pandas.core.frame.DataFrame'>\n",
      "RangeIndex: 583 entries, 0 to 582\n",
      "Data columns (total 11 columns):\n",
      " #   Column                      Non-Null Count  Dtype  \n",
      "---  ------                      --------------  -----  \n",
      " 0   Age                         583 non-null    int64  \n",
      " 1   Gender                      583 non-null    object \n",
      " 2   Total Bilirubin             583 non-null    float64\n",
      " 3   Direct Bilirubin            583 non-null    float64\n",
      " 4   Alkaline Phosphotase        583 non-null    int64  \n",
      " 5   Alamine Aminotransferase    583 non-null    int64  \n",
      " 6   Aspartate Aminotransferase  583 non-null    int64  \n",
      " 7   Total Protiens              583 non-null    float64\n",
      " 8   Albumin                     583 non-null    float64\n",
      " 9   Albumin and Globulin Ratio  579 non-null    float64\n",
      " 10  Target                      583 non-null    int64  \n",
      "dtypes: float64(5), int64(5), object(1)\n",
      "memory usage: 50.2+ KB\n"
     ]
    }
   ],
   "source": [
    "data.info()"
   ]
  },
  {
   "cell_type": "markdown",
   "id": "be66ad49",
   "metadata": {},
   "source": [
    "## There are 4 missing values in Albumin and Globulin Ratio feature"
   ]
  },
  {
   "cell_type": "code",
   "execution_count": 25,
   "id": "0ddf1a0f",
   "metadata": {},
   "outputs": [
    {
     "data": {
      "text/plain": [
       "0.9175824175824175"
      ]
     },
     "execution_count": 25,
     "metadata": {},
     "output_type": "execute_result"
    }
   ],
   "source": [
    "data.loc[(data['Gender'] == 'Female') & (data.Target == 1),'Albumin and Globulin Ratio'].mean()"
   ]
  },
  {
   "cell_type": "code",
   "execution_count": 37,
   "id": "f9cb634e",
   "metadata": {},
   "outputs": [
    {
     "data": {
      "text/plain": [
       "0.9"
      ]
     },
     "execution_count": 37,
     "metadata": {},
     "output_type": "execute_result"
    }
   ],
   "source": [
    "data.loc[(data['Gender'] == 'Female') & (data.Target == 1),'Albumin and Globulin Ratio'].median()"
   ]
  },
  {
   "cell_type": "code",
   "execution_count": 23,
   "id": "2015822c",
   "metadata": {},
   "outputs": [
    {
     "data": {
      "text/plain": [
       "0.9132198142414861"
      ]
     },
     "execution_count": 23,
     "metadata": {},
     "output_type": "execute_result"
    }
   ],
   "source": [
    "data.loc[(data['Gender'] == 'Female') & (data.Target == 2),'Albumin and Globulin Ratio'].mean()"
   ]
  },
  {
   "cell_type": "code",
   "execution_count": 27,
   "id": "973073db",
   "metadata": {},
   "outputs": [
    {
     "data": {
      "text/plain": [
       "1.0"
      ]
     },
     "execution_count": 27,
     "metadata": {},
     "output_type": "execute_result"
    }
   ],
   "source": [
    "data.loc[(data['Gender'] == 'Female') & (data.Target == 2),'Albumin and Globulin Ratio'].median()"
   ]
  },
  {
   "cell_type": "code",
   "execution_count": 28,
   "id": "2f3a97a3",
   "metadata": {},
   "outputs": [
    {
     "data": {
      "text/plain": [
       "0.9132198142414861"
      ]
     },
     "execution_count": 28,
     "metadata": {},
     "output_type": "execute_result"
    }
   ],
   "source": [
    "data.loc[(data['Gender'] == 'Male') & (data.Target == 1),'Albumin and Globulin Ratio'].mean()"
   ]
  },
  {
   "cell_type": "code",
   "execution_count": 29,
   "id": "734b398b",
   "metadata": {},
   "outputs": [
    {
     "data": {
      "text/plain": [
       "0.9"
      ]
     },
     "execution_count": 29,
     "metadata": {},
     "output_type": "execute_result"
    }
   ],
   "source": [
    "data.loc[(data['Gender'] == 'Male') & (data.Target == 1),'Albumin and Globulin Ratio'].median()"
   ]
  },
  {
   "cell_type": "code",
   "execution_count": 30,
   "id": "6f379a1b",
   "metadata": {},
   "outputs": [
    {
     "data": {
      "text/plain": [
       "1.0389655172413794"
      ]
     },
     "execution_count": 30,
     "metadata": {},
     "output_type": "execute_result"
    }
   ],
   "source": [
    "data.loc[(data['Gender'] == 'Male') & (data.Target == 2),'Albumin and Globulin Ratio'].mean()"
   ]
  },
  {
   "cell_type": "code",
   "execution_count": 31,
   "id": "ca036c50",
   "metadata": {},
   "outputs": [
    {
     "data": {
      "text/plain": [
       "1.0"
      ]
     },
     "execution_count": 31,
     "metadata": {},
     "output_type": "execute_result"
    }
   ],
   "source": [
    "data.loc[(data['Gender'] == 'Male') & (data.Target == 2),'Albumin and Globulin Ratio'].median()"
   ]
  },
  {
   "cell_type": "markdown",
   "id": "f842568d",
   "metadata": {},
   "source": [
    "## Since the mean is not equal to median, the distribution is not normal\n",
    "But the median is unaffected by the gender and different for patients and non patients, we will be replacing the missing value with median"
   ]
  },
  {
   "cell_type": "code",
   "execution_count": 4,
   "id": "93929c31",
   "metadata": {},
   "outputs": [],
   "source": [
    "data.loc[(data['Albumin and Globulin Ratio'].isnull()) & (data['Target'] == 1),'Albumin and Globulin Ratio']=data.loc[data.Target == 1,'Albumin and Globulin Ratio'].median()"
   ]
  },
  {
   "cell_type": "code",
   "execution_count": 5,
   "id": "6429b653",
   "metadata": {},
   "outputs": [],
   "source": [
    "data.loc[(data['Albumin and Globulin Ratio'].isnull()) & (data['Target'] == 2),'Albumin and Globulin Ratio']=data.loc[data.Target == 2,'Albumin and Globulin Ratio'].median()"
   ]
  },
  {
   "cell_type": "code",
   "execution_count": 6,
   "id": "eea5d3e4",
   "metadata": {},
   "outputs": [
    {
     "name": "stdout",
     "output_type": "stream",
     "text": [
      "<class 'pandas.core.frame.DataFrame'>\n",
      "RangeIndex: 583 entries, 0 to 582\n",
      "Data columns (total 11 columns):\n",
      " #   Column                      Non-Null Count  Dtype  \n",
      "---  ------                      --------------  -----  \n",
      " 0   Age                         583 non-null    int64  \n",
      " 1   Gender                      583 non-null    object \n",
      " 2   Total Bilirubin             583 non-null    float64\n",
      " 3   Direct Bilirubin            583 non-null    float64\n",
      " 4   Alkaline Phosphotase        583 non-null    int64  \n",
      " 5   Alamine Aminotransferase    583 non-null    int64  \n",
      " 6   Aspartate Aminotransferase  583 non-null    int64  \n",
      " 7   Total Protiens              583 non-null    float64\n",
      " 8   Albumin                     583 non-null    float64\n",
      " 9   Albumin and Globulin Ratio  583 non-null    float64\n",
      " 10  Target                      583 non-null    int64  \n",
      "dtypes: float64(5), int64(5), object(1)\n",
      "memory usage: 50.2+ KB\n"
     ]
    }
   ],
   "source": [
    "data.info()"
   ]
  },
  {
   "cell_type": "markdown",
   "id": "dff459ca",
   "metadata": {},
   "source": [
    "## We are converting the string datatype of Gender feature into numeric"
   ]
  },
  {
   "cell_type": "code",
   "execution_count": 7,
   "id": "dea6058b",
   "metadata": {},
   "outputs": [
    {
     "data": {
      "text/html": [
       "<div>\n",
       "<style scoped>\n",
       "    .dataframe tbody tr th:only-of-type {\n",
       "        vertical-align: middle;\n",
       "    }\n",
       "\n",
       "    .dataframe tbody tr th {\n",
       "        vertical-align: top;\n",
       "    }\n",
       "\n",
       "    .dataframe thead th {\n",
       "        text-align: right;\n",
       "    }\n",
       "</style>\n",
       "<table border=\"1\" class=\"dataframe\">\n",
       "  <thead>\n",
       "    <tr style=\"text-align: right;\">\n",
       "      <th></th>\n",
       "      <th>Age</th>\n",
       "      <th>Total Bilirubin</th>\n",
       "      <th>Direct Bilirubin</th>\n",
       "      <th>Alkaline Phosphotase</th>\n",
       "      <th>Alamine Aminotransferase</th>\n",
       "      <th>Aspartate Aminotransferase</th>\n",
       "      <th>Total Protiens</th>\n",
       "      <th>Albumin</th>\n",
       "      <th>Albumin and Globulin Ratio</th>\n",
       "      <th>Target</th>\n",
       "      <th>Gender_Male</th>\n",
       "    </tr>\n",
       "  </thead>\n",
       "  <tbody>\n",
       "    <tr>\n",
       "      <th>0</th>\n",
       "      <td>65</td>\n",
       "      <td>0.7</td>\n",
       "      <td>0.1</td>\n",
       "      <td>187</td>\n",
       "      <td>16</td>\n",
       "      <td>18</td>\n",
       "      <td>6.8</td>\n",
       "      <td>3.3</td>\n",
       "      <td>0.90</td>\n",
       "      <td>1</td>\n",
       "      <td>0</td>\n",
       "    </tr>\n",
       "    <tr>\n",
       "      <th>1</th>\n",
       "      <td>62</td>\n",
       "      <td>10.9</td>\n",
       "      <td>5.5</td>\n",
       "      <td>699</td>\n",
       "      <td>64</td>\n",
       "      <td>100</td>\n",
       "      <td>7.5</td>\n",
       "      <td>3.2</td>\n",
       "      <td>0.74</td>\n",
       "      <td>1</td>\n",
       "      <td>1</td>\n",
       "    </tr>\n",
       "    <tr>\n",
       "      <th>2</th>\n",
       "      <td>62</td>\n",
       "      <td>7.3</td>\n",
       "      <td>4.1</td>\n",
       "      <td>490</td>\n",
       "      <td>60</td>\n",
       "      <td>68</td>\n",
       "      <td>7.0</td>\n",
       "      <td>3.3</td>\n",
       "      <td>0.89</td>\n",
       "      <td>1</td>\n",
       "      <td>1</td>\n",
       "    </tr>\n",
       "    <tr>\n",
       "      <th>3</th>\n",
       "      <td>58</td>\n",
       "      <td>1.0</td>\n",
       "      <td>0.4</td>\n",
       "      <td>182</td>\n",
       "      <td>14</td>\n",
       "      <td>20</td>\n",
       "      <td>6.8</td>\n",
       "      <td>3.4</td>\n",
       "      <td>1.00</td>\n",
       "      <td>1</td>\n",
       "      <td>1</td>\n",
       "    </tr>\n",
       "    <tr>\n",
       "      <th>4</th>\n",
       "      <td>72</td>\n",
       "      <td>3.9</td>\n",
       "      <td>2.0</td>\n",
       "      <td>195</td>\n",
       "      <td>27</td>\n",
       "      <td>59</td>\n",
       "      <td>7.3</td>\n",
       "      <td>2.4</td>\n",
       "      <td>0.40</td>\n",
       "      <td>1</td>\n",
       "      <td>1</td>\n",
       "    </tr>\n",
       "    <tr>\n",
       "      <th>...</th>\n",
       "      <td>...</td>\n",
       "      <td>...</td>\n",
       "      <td>...</td>\n",
       "      <td>...</td>\n",
       "      <td>...</td>\n",
       "      <td>...</td>\n",
       "      <td>...</td>\n",
       "      <td>...</td>\n",
       "      <td>...</td>\n",
       "      <td>...</td>\n",
       "      <td>...</td>\n",
       "    </tr>\n",
       "    <tr>\n",
       "      <th>578</th>\n",
       "      <td>60</td>\n",
       "      <td>0.5</td>\n",
       "      <td>0.1</td>\n",
       "      <td>500</td>\n",
       "      <td>20</td>\n",
       "      <td>34</td>\n",
       "      <td>5.9</td>\n",
       "      <td>1.6</td>\n",
       "      <td>0.37</td>\n",
       "      <td>2</td>\n",
       "      <td>1</td>\n",
       "    </tr>\n",
       "    <tr>\n",
       "      <th>579</th>\n",
       "      <td>40</td>\n",
       "      <td>0.6</td>\n",
       "      <td>0.1</td>\n",
       "      <td>98</td>\n",
       "      <td>35</td>\n",
       "      <td>31</td>\n",
       "      <td>6.0</td>\n",
       "      <td>3.2</td>\n",
       "      <td>1.10</td>\n",
       "      <td>1</td>\n",
       "      <td>1</td>\n",
       "    </tr>\n",
       "    <tr>\n",
       "      <th>580</th>\n",
       "      <td>52</td>\n",
       "      <td>0.8</td>\n",
       "      <td>0.2</td>\n",
       "      <td>245</td>\n",
       "      <td>48</td>\n",
       "      <td>49</td>\n",
       "      <td>6.4</td>\n",
       "      <td>3.2</td>\n",
       "      <td>1.00</td>\n",
       "      <td>1</td>\n",
       "      <td>1</td>\n",
       "    </tr>\n",
       "    <tr>\n",
       "      <th>581</th>\n",
       "      <td>31</td>\n",
       "      <td>1.3</td>\n",
       "      <td>0.5</td>\n",
       "      <td>184</td>\n",
       "      <td>29</td>\n",
       "      <td>32</td>\n",
       "      <td>6.8</td>\n",
       "      <td>3.4</td>\n",
       "      <td>1.00</td>\n",
       "      <td>1</td>\n",
       "      <td>1</td>\n",
       "    </tr>\n",
       "    <tr>\n",
       "      <th>582</th>\n",
       "      <td>38</td>\n",
       "      <td>1.0</td>\n",
       "      <td>0.3</td>\n",
       "      <td>216</td>\n",
       "      <td>21</td>\n",
       "      <td>24</td>\n",
       "      <td>7.3</td>\n",
       "      <td>4.4</td>\n",
       "      <td>1.50</td>\n",
       "      <td>2</td>\n",
       "      <td>1</td>\n",
       "    </tr>\n",
       "  </tbody>\n",
       "</table>\n",
       "<p>583 rows × 11 columns</p>\n",
       "</div>"
      ],
      "text/plain": [
       "     Age  Total Bilirubin  Direct Bilirubin  Alkaline Phosphotase  \\\n",
       "0     65              0.7               0.1                   187   \n",
       "1     62             10.9               5.5                   699   \n",
       "2     62              7.3               4.1                   490   \n",
       "3     58              1.0               0.4                   182   \n",
       "4     72              3.9               2.0                   195   \n",
       "..   ...              ...               ...                   ...   \n",
       "578   60              0.5               0.1                   500   \n",
       "579   40              0.6               0.1                    98   \n",
       "580   52              0.8               0.2                   245   \n",
       "581   31              1.3               0.5                   184   \n",
       "582   38              1.0               0.3                   216   \n",
       "\n",
       "     Alamine Aminotransferase  Aspartate Aminotransferase  Total Protiens  \\\n",
       "0                          16                          18             6.8   \n",
       "1                          64                         100             7.5   \n",
       "2                          60                          68             7.0   \n",
       "3                          14                          20             6.8   \n",
       "4                          27                          59             7.3   \n",
       "..                        ...                         ...             ...   \n",
       "578                        20                          34             5.9   \n",
       "579                        35                          31             6.0   \n",
       "580                        48                          49             6.4   \n",
       "581                        29                          32             6.8   \n",
       "582                        21                          24             7.3   \n",
       "\n",
       "     Albumin  Albumin and Globulin Ratio  Target  Gender_Male  \n",
       "0        3.3                        0.90       1            0  \n",
       "1        3.2                        0.74       1            1  \n",
       "2        3.3                        0.89       1            1  \n",
       "3        3.4                        1.00       1            1  \n",
       "4        2.4                        0.40       1            1  \n",
       "..       ...                         ...     ...          ...  \n",
       "578      1.6                        0.37       2            1  \n",
       "579      3.2                        1.10       1            1  \n",
       "580      3.2                        1.00       1            1  \n",
       "581      3.4                        1.00       1            1  \n",
       "582      4.4                        1.50       2            1  \n",
       "\n",
       "[583 rows x 11 columns]"
      ]
     },
     "execution_count": 7,
     "metadata": {},
     "output_type": "execute_result"
    }
   ],
   "source": [
    "df1=pd.get_dummies(data['Gender'],prefix='Gender',drop_first=True,dtype=int)\n",
    "df=pd.concat([data,df1],axis=1).drop('Gender',axis=1)\n",
    "df"
   ]
  },
  {
   "cell_type": "markdown",
   "id": "854ceec8",
   "metadata": {},
   "source": [
    "## We will check the heatmap if there is correlation between input variables"
   ]
  },
  {
   "cell_type": "code",
   "execution_count": 8,
   "id": "7114d5f6",
   "metadata": {},
   "outputs": [
    {
     "data": {
      "image/png": "[encoded data removed]",
      "text/plain": [
       "<Figure size 640x480 with 2 Axes>"
      ]
     },
     "metadata": {},
     "output_type": "display_data"
    }
   ],
   "source": [
    "X=df.drop('Target',axis=1)\n",
    "y=df['Target']\n",
    "sns.heatmap(X.corr().abs(),annot=True)\n",
    "plt.show()"
   ]
  },
  {
   "cell_type": "markdown",
   "id": "e2ced8ae",
   "metadata": {},
   "source": [
    "## Since all the features has correlation less than 0.9 and very rare to extract medical data, we are either not going to remove any columns or oversample the input"
   ]
  },
  {
   "cell_type": "markdown",
   "id": "f2f0088b",
   "metadata": {},
   "source": [
    "## Splitting the data"
   ]
  },
  {
   "cell_type": "code",
   "execution_count": 9,
   "id": "939eddfc",
   "metadata": {},
   "outputs": [],
   "source": [
    "X_train,X_test,y_train,y_test=train_test_split(X,y,test_size=0.1)"
   ]
  },
  {
   "cell_type": "markdown",
   "id": "0dbfc41f",
   "metadata": {},
   "source": [
    "## Training the dataset using different models"
   ]
  },
  {
   "cell_type": "code",
   "execution_count": 11,
   "id": "56841c6c",
   "metadata": {},
   "outputs": [
    {
     "data": {
      "text/plain": [
       "(0.9142857142857143, 0.6274509803921569, 0.7441860465116279)"
      ]
     },
     "execution_count": 11,
     "metadata": {},
     "output_type": "execute_result"
    }
   ],
   "source": [
    "model=LogisticRegression(n_jobs=-1)\n",
    "model.fit(X_train,y_train)\n",
    "y_pred=model.predict(X_test)\n",
    "recall_score(y_test,y_pred),precision_score(y_test,y_pred),f1_score(y_test,y_pred)"
   ]
  },
  {
   "cell_type": "code",
   "execution_count": 105,
   "id": "814fc3b0",
   "metadata": {},
   "outputs": [
    {
     "data": {
      "text/plain": [
       "(1.0, 0.7288135593220338, 0.8431372549019608)"
      ]
     },
     "execution_count": 105,
     "metadata": {},
     "output_type": "execute_result"
    }
   ],
   "source": [
    "model1=SVC()\n",
    "model1.fit(X_train,y_train)\n",
    "y_pred1=model1.predict(X_test)\n",
    "recall_score(y_test,y_pred1),precision_score(y_test,y_pred1),f1_score(y_test,y_pred1)"
   ]
  },
  {
   "cell_type": "code",
   "execution_count": 106,
   "id": "748e7432",
   "metadata": {},
   "outputs": [
    {
     "data": {
      "text/plain": [
       "(0.8372093023255814, 0.8, 0.8181818181818183)"
      ]
     },
     "execution_count": 106,
     "metadata": {},
     "output_type": "execute_result"
    }
   ],
   "source": [
    "model2=DecisionTreeClassifier()\n",
    "model2.fit(X_train,y_train)\n",
    "y_pred2=model2.predict(X_test)\n",
    "recall_score(y_test,y_pred2),precision_score(y_test,y_pred2),f1_score(y_test,y_pred2)"
   ]
  },
  {
   "cell_type": "code",
   "execution_count": 107,
   "id": "5ab40a59",
   "metadata": {},
   "outputs": [
    {
     "data": {
      "text/plain": [
       "(0.7674418604651163, 0.717391304347826, 0.7415730337078652)"
      ]
     },
     "execution_count": 107,
     "metadata": {},
     "output_type": "execute_result"
    }
   ],
   "source": [
    "model3=RandomForestClassifier(n_jobs=-1)\n",
    "model3.fit(X_train,y_train)\n",
    "y_pred3=model3.predict(X_test)\n",
    "recall_score(y_test,y_pred3),precision_score(y_test,y_pred3),f1_score(y_test,y_pred3)"
   ]
  },
  {
   "cell_type": "code",
   "execution_count": 108,
   "id": "85384e9f",
   "metadata": {},
   "outputs": [
    {
     "data": {
      "text/plain": [
       "(0.813953488372093, 0.7291666666666666, 0.7692307692307692)"
      ]
     },
     "execution_count": 108,
     "metadata": {},
     "output_type": "execute_result"
    }
   ],
   "source": [
    "model4=BaggingClassifier(n_jobs=-1)\n",
    "model4.fit(X_train,y_train)\n",
    "y_pred4=model4.predict(X_test)\n",
    "recall_score(y_test,y_pred4),precision_score(y_test,y_pred4),f1_score(y_test,y_pred4)"
   ]
  },
  {
   "cell_type": "code",
   "execution_count": 109,
   "id": "abdeea4b",
   "metadata": {},
   "outputs": [
    {
     "data": {
      "text/plain": [
       "(0.813953488372093, 0.7446808510638298, 0.7777777777777778)"
      ]
     },
     "execution_count": 109,
     "metadata": {},
     "output_type": "execute_result"
    }
   ],
   "source": [
    "model5=GradientBoostingClassifier()\n",
    "model5.fit(X_train,y_train)\n",
    "y_pred5=model5.predict(X_test)\n",
    "recall_score(y_test,y_pred5),precision_score(y_test,y_pred5),f1_score(y_test,y_pred5)"
   ]
  },
  {
   "cell_type": "code",
   "execution_count": 110,
   "id": "12b9fe79",
   "metadata": {},
   "outputs": [
    {
     "data": {
      "text/plain": [
       "(0.8372093023255814, 0.7659574468085106, 0.8)"
      ]
     },
     "execution_count": 110,
     "metadata": {},
     "output_type": "execute_result"
    }
   ],
   "source": [
    "model6=XGBClassifier(n_jobs=-1)\n",
    "model6.fit(X_train,y_train.replace(2,0))\n",
    "y_pred6=model6.predict(X_test)\n",
    "recall_score(y_test.replace(2,0),y_pred6),precision_score(y_test.replace(2,0),y_pred6),f1_score(y_test.replace(2,0),y_pred6)"
   ]
  },
  {
   "cell_type": "markdown",
   "id": "868d31cc",
   "metadata": {},
   "source": [
    "# Since we want our model to predict both the results more precisely, can conclude that Support Vector Machine Algorithm is best fit for implementing"
   ]
  },
  {
   "cell_type": "code",
   "execution_count": null,
   "id": "682d5988",
   "metadata": {},
   "outputs": [],
   "source": []
  }
 ],
 "metadata": {
  "kernelspec": {
   "display_name": "Python 3 (ipykernel)",
   "language": "python",
   "name": "python3"
  },
  "language_info": {
   "codemirror_mode": {
    "name": "ipython",
    "version": 3
   },
   "file_extension": ".py",
   "mimetype": "text/x-python",
   "name": "python",
   "nbconvert_exporter": "python",
   "pygments_lexer": "ipython3",
   "version": "3.11.5"
  }
 },
 "nbformat": 4,
 "nbformat_minor": 5
}
