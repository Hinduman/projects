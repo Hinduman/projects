{
 "cells": [
  {
   "cell_type": "code",
   "execution_count": 35,
   "id": "f6b66a70-01cd-423b-adcc-431168f2ffc0",
   "metadata": {},
   "outputs": [],
   "source": [
    "import pandas as pd\n",
    "import numpy as np\n",
    "import matplotlib.pyplot as plt\n",
    "import seaborn as sns\n",
    "from sklearn.decomposition import PCA\n",
    "from sklearn.preprocessing import StandardScaler\n",
    "from sklearn.model_selection import train_test_split\n",
    "from sklearn.linear_model import LinearRegression\n",
    "from sklearn.svm import SVR\n",
    "from sklearn.tree import DecisionTreeRegressor\n",
    "from xgboost import XGBRegressor\n",
    "from sklearn.ensemble import RandomForestRegressor,BaggingRegressor,GradientBoostingRegressor\n",
    "from sklearn.metrics import r2_score"
   ]
  },
  {
   "cell_type": "code",
   "execution_count": 2,
   "id": "a855e58c-949b-4dc4-9a5a-81e3dc82ff2d",
   "metadata": {},
   "outputs": [
    {
     "data": {
      "text/html": [
       "<div>\n",
       "<style scoped>\n",
       "    .dataframe tbody tr th:only-of-type {\n",
       "        vertical-align: middle;\n",
       "    }\n",
       "\n",
       "    .dataframe tbody tr th {\n",
       "        vertical-align: top;\n",
       "    }\n",
       "\n",
       "    .dataframe thead th {\n",
       "        text-align: right;\n",
       "    }\n",
       "</style>\n",
       "<table border=\"1\" class=\"dataframe\">\n",
       "  <thead>\n",
       "    <tr style=\"text-align: right;\">\n",
       "      <th></th>\n",
       "      <th>Airline</th>\n",
       "      <th>Date_of_Journey</th>\n",
       "      <th>Source</th>\n",
       "      <th>Destination</th>\n",
       "      <th>Route</th>\n",
       "      <th>Dep_Time</th>\n",
       "      <th>Arrival_Time</th>\n",
       "      <th>Duration</th>\n",
       "      <th>Total_Stops</th>\n",
       "      <th>Additional_Info</th>\n",
       "      <th>Price</th>\n",
       "    </tr>\n",
       "  </thead>\n",
       "  <tbody>\n",
       "    <tr>\n",
       "      <th>0</th>\n",
       "      <td>IndiGo</td>\n",
       "      <td>24/03/2019</td>\n",
       "      <td>Banglore</td>\n",
       "      <td>New Delhi</td>\n",
       "      <td>BLR → DEL</td>\n",
       "      <td>22:20</td>\n",
       "      <td>01:10 22 Mar</td>\n",
       "      <td>2h 50m</td>\n",
       "      <td>non-stop</td>\n",
       "      <td>No info</td>\n",
       "      <td>3897</td>\n",
       "    </tr>\n",
       "    <tr>\n",
       "      <th>1</th>\n",
       "      <td>Air India</td>\n",
       "      <td>1/05/2019</td>\n",
       "      <td>Kolkata</td>\n",
       "      <td>Banglore</td>\n",
       "      <td>CCU → IXR → BBI → BLR</td>\n",
       "      <td>05:50</td>\n",
       "      <td>13:15</td>\n",
       "      <td>7h 25m</td>\n",
       "      <td>2 stops</td>\n",
       "      <td>No info</td>\n",
       "      <td>7662</td>\n",
       "    </tr>\n",
       "    <tr>\n",
       "      <th>2</th>\n",
       "      <td>Jet Airways</td>\n",
       "      <td>9/06/2019</td>\n",
       "      <td>Delhi</td>\n",
       "      <td>Cochin</td>\n",
       "      <td>DEL → LKO → BOM → COK</td>\n",
       "      <td>09:25</td>\n",
       "      <td>04:25 10 Jun</td>\n",
       "      <td>19h</td>\n",
       "      <td>2 stops</td>\n",
       "      <td>No info</td>\n",
       "      <td>13882</td>\n",
       "    </tr>\n",
       "    <tr>\n",
       "      <th>3</th>\n",
       "      <td>IndiGo</td>\n",
       "      <td>12/05/2019</td>\n",
       "      <td>Kolkata</td>\n",
       "      <td>Banglore</td>\n",
       "      <td>CCU → NAG → BLR</td>\n",
       "      <td>18:05</td>\n",
       "      <td>23:30</td>\n",
       "      <td>5h 25m</td>\n",
       "      <td>1 stop</td>\n",
       "      <td>No info</td>\n",
       "      <td>6218</td>\n",
       "    </tr>\n",
       "    <tr>\n",
       "      <th>4</th>\n",
       "      <td>IndiGo</td>\n",
       "      <td>01/03/2019</td>\n",
       "      <td>Banglore</td>\n",
       "      <td>New Delhi</td>\n",
       "      <td>BLR → NAG → DEL</td>\n",
       "      <td>16:50</td>\n",
       "      <td>21:35</td>\n",
       "      <td>4h 45m</td>\n",
       "      <td>1 stop</td>\n",
       "      <td>No info</td>\n",
       "      <td>13302</td>\n",
       "    </tr>\n",
       "  </tbody>\n",
       "</table>\n",
       "</div>"
      ],
      "text/plain": [
       "       Airline Date_of_Journey    Source Destination                  Route  \\\n",
       "0       IndiGo      24/03/2019  Banglore   New Delhi              BLR → DEL   \n",
       "1    Air India       1/05/2019   Kolkata    Banglore  CCU → IXR → BBI → BLR   \n",
       "2  Jet Airways       9/06/2019     Delhi      Cochin  DEL → LKO → BOM → COK   \n",
       "3       IndiGo      12/05/2019   Kolkata    Banglore        CCU → NAG → BLR   \n",
       "4       IndiGo      01/03/2019  Banglore   New Delhi        BLR → NAG → DEL   \n",
       "\n",
       "  Dep_Time  Arrival_Time Duration Total_Stops Additional_Info  Price  \n",
       "0    22:20  01:10 22 Mar   2h 50m    non-stop         No info   3897  \n",
       "1    05:50         13:15   7h 25m     2 stops         No info   7662  \n",
       "2    09:25  04:25 10 Jun      19h     2 stops         No info  13882  \n",
       "3    18:05         23:30   5h 25m      1 stop         No info   6218  \n",
       "4    16:50         21:35   4h 45m      1 stop         No info  13302  "
      ]
     },
     "execution_count": 2,
     "metadata": {},
     "output_type": "execute_result"
    }
   ],
   "source": [
    "data=pd.read_excel('Flight_Fare.xlsx')\n",
    "data.head()"
   ]
  },
  {
   "cell_type": "markdown",
   "id": "907cf1fe-8bb9-4be5-8555-4d3dcb5bb60e",
   "metadata": {},
   "source": [
    "## When we have done basic check about columns, there are 4 features that will not be contributing to our price. Below we will explain why they are not required"
   ]
  },
  {
   "cell_type": "markdown",
   "id": "77e6ac6c-eee2-4e89-b4d6-215dd81b2456",
   "metadata": {},
   "source": [
    "### Date_of_Journey - This feature only contributes if they would have also given the ticket booking date."
   ]
  },
  {
   "cell_type": "markdown",
   "id": "83ee6487-533d-49a7-bc41-14377109674e",
   "metadata": {},
   "source": [
    "### Route - This feature tells how many stops the aeroplane is making inbetween Source and Destination which is already given as another column (Total_Stops)."
   ]
  },
  {
   "cell_type": "markdown",
   "id": "c91311e9-04c7-4690-bcb4-c6271f0681c8",
   "metadata": {},
   "source": [
    "### Dep_Time and Arrival_Time - The difference between these columns is nothing, but Duration column"
   ]
  },
  {
   "cell_type": "markdown",
   "id": "4c2c1b25-c317-49e0-b5dd-e8604b4e29e1",
   "metadata": {},
   "source": [
    "## Exploratory Data Analysis"
   ]
  },
  {
   "cell_type": "code",
   "execution_count": 3,
   "id": "2f25fae4-b5fc-4e47-b4f0-fba93dc09e44",
   "metadata": {},
   "outputs": [
    {
     "name": "stdout",
     "output_type": "stream",
     "text": [
      "<class 'pandas.core.frame.DataFrame'>\n",
      "RangeIndex: 10683 entries, 0 to 10682\n",
      "Data columns (total 11 columns):\n",
      " #   Column           Non-Null Count  Dtype \n",
      "---  ------           --------------  ----- \n",
      " 0   Airline          10683 non-null  object\n",
      " 1   Date_of_Journey  10683 non-null  object\n",
      " 2   Source           10683 non-null  object\n",
      " 3   Destination      10683 non-null  object\n",
      " 4   Route            10682 non-null  object\n",
      " 5   Dep_Time         10683 non-null  object\n",
      " 6   Arrival_Time     10683 non-null  object\n",
      " 7   Duration         10683 non-null  object\n",
      " 8   Total_Stops      10682 non-null  object\n",
      " 9   Additional_Info  10683 non-null  object\n",
      " 10  Price            10683 non-null  int64 \n",
      "dtypes: int64(1), object(10)\n",
      "memory usage: 918.2+ KB\n"
     ]
    }
   ],
   "source": [
    "data.info()"
   ]
  },
  {
   "cell_type": "markdown",
   "id": "1cbc979c-1792-4d67-83c4-f4d31aebef1d",
   "metadata": {},
   "source": [
    "## There is only 1 missing value in Route and Total_Stops feature, so we can either replace it with the maximum occuring value(Mode) or remove it from the dataset."
   ]
  },
  {
   "cell_type": "code",
   "execution_count": 4,
   "id": "50958575-641f-4580-9188-34e29d42ccdd",
   "metadata": {},
   "outputs": [
    {
     "data": {
      "text/html": [
       "<div>\n",
       "<style scoped>\n",
       "    .dataframe tbody tr th:only-of-type {\n",
       "        vertical-align: middle;\n",
       "    }\n",
       "\n",
       "    .dataframe tbody tr th {\n",
       "        vertical-align: top;\n",
       "    }\n",
       "\n",
       "    .dataframe thead th {\n",
       "        text-align: right;\n",
       "    }\n",
       "</style>\n",
       "<table border=\"1\" class=\"dataframe\">\n",
       "  <thead>\n",
       "    <tr style=\"text-align: right;\">\n",
       "      <th></th>\n",
       "      <th>Airline</th>\n",
       "      <th>Date_of_Journey</th>\n",
       "      <th>Source</th>\n",
       "      <th>Destination</th>\n",
       "      <th>Route</th>\n",
       "      <th>Dep_Time</th>\n",
       "      <th>Arrival_Time</th>\n",
       "      <th>Duration</th>\n",
       "      <th>Total_Stops</th>\n",
       "      <th>Additional_Info</th>\n",
       "      <th>Price</th>\n",
       "    </tr>\n",
       "  </thead>\n",
       "  <tbody>\n",
       "    <tr>\n",
       "      <th>9039</th>\n",
       "      <td>Air India</td>\n",
       "      <td>6/05/2019</td>\n",
       "      <td>Delhi</td>\n",
       "      <td>Cochin</td>\n",
       "      <td>NaN</td>\n",
       "      <td>09:45</td>\n",
       "      <td>09:25 07 May</td>\n",
       "      <td>23h 40m</td>\n",
       "      <td>NaN</td>\n",
       "      <td>No info</td>\n",
       "      <td>7480</td>\n",
       "    </tr>\n",
       "  </tbody>\n",
       "</table>\n",
       "</div>"
      ],
      "text/plain": [
       "        Airline Date_of_Journey Source Destination Route Dep_Time  \\\n",
       "9039  Air India       6/05/2019  Delhi      Cochin   NaN    09:45   \n",
       "\n",
       "      Arrival_Time Duration Total_Stops Additional_Info  Price  \n",
       "9039  09:25 07 May  23h 40m         NaN         No info   7480  "
      ]
     },
     "execution_count": 4,
     "metadata": {},
     "output_type": "execute_result"
    }
   ],
   "source": [
    "data.loc[data.Route.isnull(),:]"
   ]
  },
  {
   "cell_type": "code",
   "execution_count": 5,
   "id": "c6f877e6-bc7e-4076-a0c1-e10b5cf27a00",
   "metadata": {},
   "outputs": [
    {
     "data": {
      "text/plain": [
       "Total_Stops\n",
       "1 stop      72\n",
       "non-stop     4\n",
       "2 stops      4\n",
       "Name: count, dtype: int64"
      ]
     },
     "execution_count": 5,
     "metadata": {},
     "output_type": "execute_result"
    }
   ],
   "source": [
    "data.loc[(data.Source=='Delhi') & (data.Destination=='Cochin') & (data.Airline=='Air India') & (data.Price>7000) & (data.Price<8000),:].Total_Stops.value_counts()"
   ]
  },
  {
   "cell_type": "code",
   "execution_count": 6,
   "id": "0dd273b7-ccd8-4ede-ae2a-af288f59205f",
   "metadata": {},
   "outputs": [
    {
     "data": {
      "text/plain": [
       "0    1 stop\n",
       "Name: Total_Stops, dtype: object"
      ]
     },
     "execution_count": 6,
     "metadata": {},
     "output_type": "execute_result"
    }
   ],
   "source": [
    "data.Total_Stops.mode()"
   ]
  },
  {
   "cell_type": "code",
   "execution_count": 7,
   "id": "f084b5cb-132c-4a64-a79b-ac8ad0316ead",
   "metadata": {},
   "outputs": [],
   "source": [
    "data.loc[data.Route.isnull(),'Total_Stops']='1 stop'"
   ]
  },
  {
   "cell_type": "markdown",
   "id": "53cc926a-b278-4442-9c68-e1c4e1f80052",
   "metadata": {},
   "source": [
    "## Changing the column datatype to numerical"
   ]
  },
  {
   "cell_type": "code",
   "execution_count": 8,
   "id": "fbf3de74-73fb-498c-890f-f74852fb81f8",
   "metadata": {},
   "outputs": [],
   "source": [
    "var=data.Duration\n",
    "def func(arg):\n",
    "    if 'm' not in arg:\n",
    "        return int(arg.replace('h',''))\n",
    "    elif 'h' not in arg:\n",
    "        return round(int(arg.replace('m',''))/60,3)\n",
    "    else:\n",
    "        temp=arg.replace('h','').replace('m','').split(' ')\n",
    "        return round(int(temp[0])+int(temp[1])/60,3)\n",
    "data.Duration=var.apply(func)"
   ]
  },
  {
   "cell_type": "code",
   "execution_count": 9,
   "id": "30e309cf-1742-4aab-8624-fd89c3a2c51d",
   "metadata": {},
   "outputs": [
    {
     "data": {
      "text/html": [
       "<div>\n",
       "<style scoped>\n",
       "    .dataframe tbody tr th:only-of-type {\n",
       "        vertical-align: middle;\n",
       "    }\n",
       "\n",
       "    .dataframe tbody tr th {\n",
       "        vertical-align: top;\n",
       "    }\n",
       "\n",
       "    .dataframe thead th {\n",
       "        text-align: right;\n",
       "    }\n",
       "</style>\n",
       "<table border=\"1\" class=\"dataframe\">\n",
       "  <thead>\n",
       "    <tr style=\"text-align: right;\">\n",
       "      <th></th>\n",
       "      <th>Airline</th>\n",
       "      <th>Date_of_Journey</th>\n",
       "      <th>Source</th>\n",
       "      <th>Destination</th>\n",
       "      <th>Route</th>\n",
       "      <th>Dep_Time</th>\n",
       "      <th>Arrival_Time</th>\n",
       "      <th>Duration</th>\n",
       "      <th>Total_Stops</th>\n",
       "      <th>Additional_Info</th>\n",
       "      <th>Price</th>\n",
       "    </tr>\n",
       "  </thead>\n",
       "  <tbody>\n",
       "    <tr>\n",
       "      <th>0</th>\n",
       "      <td>IndiGo</td>\n",
       "      <td>24/03/2019</td>\n",
       "      <td>Banglore</td>\n",
       "      <td>New Delhi</td>\n",
       "      <td>BLR → DEL</td>\n",
       "      <td>22:20</td>\n",
       "      <td>01:10 22 Mar</td>\n",
       "      <td>2.833</td>\n",
       "      <td>non-stop</td>\n",
       "      <td>No info</td>\n",
       "      <td>3897</td>\n",
       "    </tr>\n",
       "    <tr>\n",
       "      <th>1</th>\n",
       "      <td>Air India</td>\n",
       "      <td>1/05/2019</td>\n",
       "      <td>Kolkata</td>\n",
       "      <td>Banglore</td>\n",
       "      <td>CCU → IXR → BBI → BLR</td>\n",
       "      <td>05:50</td>\n",
       "      <td>13:15</td>\n",
       "      <td>7.417</td>\n",
       "      <td>2 stops</td>\n",
       "      <td>No info</td>\n",
       "      <td>7662</td>\n",
       "    </tr>\n",
       "    <tr>\n",
       "      <th>2</th>\n",
       "      <td>Jet Airways</td>\n",
       "      <td>9/06/2019</td>\n",
       "      <td>Delhi</td>\n",
       "      <td>Cochin</td>\n",
       "      <td>DEL → LKO → BOM → COK</td>\n",
       "      <td>09:25</td>\n",
       "      <td>04:25 10 Jun</td>\n",
       "      <td>19.000</td>\n",
       "      <td>2 stops</td>\n",
       "      <td>No info</td>\n",
       "      <td>13882</td>\n",
       "    </tr>\n",
       "    <tr>\n",
       "      <th>3</th>\n",
       "      <td>IndiGo</td>\n",
       "      <td>12/05/2019</td>\n",
       "      <td>Kolkata</td>\n",
       "      <td>Banglore</td>\n",
       "      <td>CCU → NAG → BLR</td>\n",
       "      <td>18:05</td>\n",
       "      <td>23:30</td>\n",
       "      <td>5.417</td>\n",
       "      <td>1 stop</td>\n",
       "      <td>No info</td>\n",
       "      <td>6218</td>\n",
       "    </tr>\n",
       "    <tr>\n",
       "      <th>4</th>\n",
       "      <td>IndiGo</td>\n",
       "      <td>01/03/2019</td>\n",
       "      <td>Banglore</td>\n",
       "      <td>New Delhi</td>\n",
       "      <td>BLR → NAG → DEL</td>\n",
       "      <td>16:50</td>\n",
       "      <td>21:35</td>\n",
       "      <td>4.750</td>\n",
       "      <td>1 stop</td>\n",
       "      <td>No info</td>\n",
       "      <td>13302</td>\n",
       "    </tr>\n",
       "  </tbody>\n",
       "</table>\n",
       "</div>"
      ],
      "text/plain": [
       "       Airline Date_of_Journey    Source Destination                  Route  \\\n",
       "0       IndiGo      24/03/2019  Banglore   New Delhi              BLR → DEL   \n",
       "1    Air India       1/05/2019   Kolkata    Banglore  CCU → IXR → BBI → BLR   \n",
       "2  Jet Airways       9/06/2019     Delhi      Cochin  DEL → LKO → BOM → COK   \n",
       "3       IndiGo      12/05/2019   Kolkata    Banglore        CCU → NAG → BLR   \n",
       "4       IndiGo      01/03/2019  Banglore   New Delhi        BLR → NAG → DEL   \n",
       "\n",
       "  Dep_Time  Arrival_Time  Duration Total_Stops Additional_Info  Price  \n",
       "0    22:20  01:10 22 Mar     2.833    non-stop         No info   3897  \n",
       "1    05:50         13:15     7.417     2 stops         No info   7662  \n",
       "2    09:25  04:25 10 Jun    19.000     2 stops         No info  13882  \n",
       "3    18:05         23:30     5.417      1 stop         No info   6218  \n",
       "4    16:50         21:35     4.750      1 stop         No info  13302  "
      ]
     },
     "execution_count": 9,
     "metadata": {},
     "output_type": "execute_result"
    }
   ],
   "source": [
    "data.head()"
   ]
  },
  {
   "cell_type": "code",
   "execution_count": 13,
   "id": "a8da1e87-ee2e-4a91-b70a-05073f7b7fff",
   "metadata": {},
   "outputs": [
    {
     "data": {
      "text/plain": [
       "array(['No info', 'In-flight meal not included',\n",
       "       'No check-in baggage included', '1 Short layover',\n",
       "       '1 Long layover', 'Change airports', 'Business class',\n",
       "       'Red-eye flight', '2 Long layover'], dtype=object)"
      ]
     },
     "execution_count": 13,
     "metadata": {},
     "output_type": "execute_result"
    }
   ],
   "source": [
    "data.Additional_Info.unique()"
   ]
  },
  {
   "cell_type": "code",
   "execution_count": 11,
   "id": "de934174-ef72-4f28-910c-dd94ee9fc776",
   "metadata": {},
   "outputs": [
    {
     "data": {
      "text/plain": [
       "Additional_Info\n",
       "No info                         8345\n",
       "In-flight meal not included     1982\n",
       "No check-in baggage included     320\n",
       "1 Long layover                    19\n",
       "Change airports                    7\n",
       "Business class                     4\n",
       "No Info                            3\n",
       "1 Short layover                    1\n",
       "Red-eye flight                     1\n",
       "2 Long layover                     1\n",
       "Name: count, dtype: int64"
      ]
     },
     "execution_count": 11,
     "metadata": {},
     "output_type": "execute_result"
    }
   ],
   "source": [
    "data.Additional_Info.value_counts()"
   ]
  },
  {
   "cell_type": "code",
   "execution_count": 12,
   "id": "84abfa52-39f1-4cfb-bb6c-0c7346ec6c3c",
   "metadata": {},
   "outputs": [],
   "source": [
    "data.replace('No Info','No info',inplace=True)"
   ]
  },
  {
   "cell_type": "code",
   "execution_count": 14,
   "id": "a65c2d7c-fb19-41a7-aa6d-f62cf3b82d1d",
   "metadata": {},
   "outputs": [
    {
     "data": {
      "text/plain": [
       "array(['Banglore', 'Kolkata', 'Delhi', 'Chennai', 'Mumbai'], dtype=object)"
      ]
     },
     "execution_count": 14,
     "metadata": {},
     "output_type": "execute_result"
    }
   ],
   "source": [
    "data.Source.unique()"
   ]
  },
  {
   "cell_type": "code",
   "execution_count": 19,
   "id": "566f79d0-eb88-44c3-9c8b-adc68de396ae",
   "metadata": {},
   "outputs": [
    {
     "data": {
      "text/plain": [
       "array(['Delhi', 'Banglore', 'Cochin', 'Kolkata', 'Hyderabad'],\n",
       "      dtype=object)"
      ]
     },
     "execution_count": 19,
     "metadata": {},
     "output_type": "execute_result"
    }
   ],
   "source": [
    "data.Destination.unique()"
   ]
  },
  {
   "cell_type": "code",
   "execution_count": 18,
   "id": "c296cbd3-980a-42cd-8535-461a7e61b25f",
   "metadata": {},
   "outputs": [],
   "source": [
    "data.replace('New Delhi','Delhi',inplace=True)"
   ]
  },
  {
   "cell_type": "code",
   "execution_count": 23,
   "id": "c75c5ddc-4f4a-4278-a3fb-a69da1e21857",
   "metadata": {},
   "outputs": [],
   "source": [
    "temp_df1=pd.get_dummies(data.Airline,prefix='Airline',dtype=int,drop_first=True)\n",
    "temp_df2=pd.get_dummies(data.Source,prefix='Source',dtype=int,drop_first=True)\n",
    "temp_df3=pd.get_dummies(data.Destination,prefix='Destination',dtype=int,drop_first=True)\n",
    "temp_df4=pd.get_dummies(data.Total_Stops,prefix='Total_Stops',dtype=int,drop_first=True)\n",
    "temp_df5=pd.get_dummies(data.Additional_Info,prefix='Additional_Info',dtype=int,drop_first=True)"
   ]
  },
  {
   "cell_type": "code",
   "execution_count": 25,
   "id": "c6dfde23-a235-49cb-be76-a01d008efadd",
   "metadata": {},
   "outputs": [],
   "source": [
    "X=pd.concat([temp_df1,temp_df2,temp_df3,temp_df4,temp_df5,data.Duration],axis=1)\n",
    "y=data.Price"
   ]
  },
  {
   "cell_type": "code",
   "execution_count": 36,
   "id": "39777f84-970f-4f8c-8ce3-a557f8deead7",
   "metadata": {},
   "outputs": [
    {
     "data": {
      "text/plain": [
       "((10683, 32), (10683,))"
      ]
     },
     "execution_count": 36,
     "metadata": {},
     "output_type": "execute_result"
    }
   ],
   "source": [
    "X.shape,y.shape"
   ]
  },
  {
   "cell_type": "markdown",
   "id": "2d37383c-48bf-458f-b869-11462335286b",
   "metadata": {},
   "source": [
    "## Performing feature engineering"
   ]
  },
  {
   "cell_type": "code",
   "execution_count": 28,
   "id": "b1f2cebf-e9de-4f4d-a4d1-c0439f2f67be",
   "metadata": {},
   "outputs": [
    {
     "data": {
      "image/png": "[encoded data removed]",
      "text/plain": [
       "<Figure size 640x480 with 1 Axes>"
      ]
     },
     "metadata": {},
     "output_type": "display_data"
    }
   ],
   "source": [
    "scaled_data=StandardScaler().fit_transform(X)\n",
    "pca = PCA()\n",
    "pca.fit_transform(pd.DataFrame(data=scaled_data, columns= X.columns))\n",
    "plt.figure()\n",
    "variance_change=np.cumsum(pca.explained_variance_ratio_)\n",
    "plt.plot(variance_change)\n",
    "plt.xlabel('Number of Components')\n",
    "plt.ylabel('Variance (%)') #for each component\n",
    "plt.title('Explained Variance')\n",
    "plt.show()"
   ]
  },
  {
   "cell_type": "code",
   "execution_count": 32,
   "id": "043cbd31-2a6e-4f38-9523-3e0d36eae534",
   "metadata": {},
   "outputs": [
    {
     "data": {
      "text/plain": [
       "19"
      ]
     },
     "execution_count": 32,
     "metadata": {},
     "output_type": "execute_result"
    }
   ],
   "source": [
    "len(np.where(variance_change<0.9)[0])"
   ]
  },
  {
   "cell_type": "markdown",
   "id": "c4f6fe0d-4102-4da2-998b-adb6807d2c79",
   "metadata": {},
   "source": [
    "## Since 19 features are capturing the total variance of data, we can create a new dataset with these many principle components "
   ]
  },
  {
   "cell_type": "code",
   "execution_count": 34,
   "id": "7aab3b37-ee31-4d06-8307-5b3b3eee8330",
   "metadata": {},
   "outputs": [
    {
     "data": {
      "text/html": [
       "<div>\n",
       "<style scoped>\n",
       "    .dataframe tbody tr th:only-of-type {\n",
       "        vertical-align: middle;\n",
       "    }\n",
       "\n",
       "    .dataframe tbody tr th {\n",
       "        vertical-align: top;\n",
       "    }\n",
       "\n",
       "    .dataframe thead th {\n",
       "        text-align: right;\n",
       "    }\n",
       "</style>\n",
       "<table border=\"1\" class=\"dataframe\">\n",
       "  <thead>\n",
       "    <tr style=\"text-align: right;\">\n",
       "      <th></th>\n",
       "      <th>Principle_comp_1</th>\n",
       "      <th>Principle_comp_2</th>\n",
       "      <th>Principle_comp_3</th>\n",
       "      <th>Principle_comp_4</th>\n",
       "      <th>Principle_comp_5</th>\n",
       "      <th>Principle_comp_6</th>\n",
       "      <th>Principle_comp_7</th>\n",
       "      <th>Principle_comp_8</th>\n",
       "      <th>Principle_comp_9</th>\n",
       "      <th>Principle_comp_10</th>\n",
       "      <th>Principle_comp_11</th>\n",
       "      <th>Principle_comp_12</th>\n",
       "      <th>Principle_comp_13</th>\n",
       "      <th>Principle_comp_14</th>\n",
       "      <th>Principle_comp_15</th>\n",
       "      <th>Principle_comp_16</th>\n",
       "      <th>Principle_comp_17</th>\n",
       "      <th>Principle_comp_18</th>\n",
       "      <th>Principle_comp_19</th>\n",
       "    </tr>\n",
       "  </thead>\n",
       "  <tbody>\n",
       "    <tr>\n",
       "      <th>0</th>\n",
       "      <td>-7.947581</td>\n",
       "      <td>0.373171</td>\n",
       "      <td>-0.501452</td>\n",
       "      <td>0.665380</td>\n",
       "      <td>-0.657942</td>\n",
       "      <td>0.219975</td>\n",
       "      <td>-0.231671</td>\n",
       "      <td>-0.184565</td>\n",
       "      <td>-0.112383</td>\n",
       "      <td>-0.174751</td>\n",
       "      <td>0.096043</td>\n",
       "      <td>0.057419</td>\n",
       "      <td>-0.119368</td>\n",
       "      <td>-0.019856</td>\n",
       "      <td>-0.031504</td>\n",
       "      <td>-0.011276</td>\n",
       "      <td>-0.001358</td>\n",
       "      <td>-0.005206</td>\n",
       "      <td>0.002265</td>\n",
       "    </tr>\n",
       "    <tr>\n",
       "      <th>1</th>\n",
       "      <td>-3.268073</td>\n",
       "      <td>0.438061</td>\n",
       "      <td>-0.675354</td>\n",
       "      <td>-0.625813</td>\n",
       "      <td>0.713979</td>\n",
       "      <td>-0.425473</td>\n",
       "      <td>0.298649</td>\n",
       "      <td>-0.938271</td>\n",
       "      <td>-0.070996</td>\n",
       "      <td>-0.094714</td>\n",
       "      <td>0.445716</td>\n",
       "      <td>-0.224511</td>\n",
       "      <td>0.114279</td>\n",
       "      <td>-0.037738</td>\n",
       "      <td>-0.011135</td>\n",
       "      <td>-0.021060</td>\n",
       "      <td>0.013620</td>\n",
       "      <td>-0.008644</td>\n",
       "      <td>0.002747</td>\n",
       "    </tr>\n",
       "    <tr>\n",
       "      <th>2</th>\n",
       "      <td>8.328245</td>\n",
       "      <td>-0.638236</td>\n",
       "      <td>0.175262</td>\n",
       "      <td>0.209271</td>\n",
       "      <td>-0.039057</td>\n",
       "      <td>0.069376</td>\n",
       "      <td>0.667765</td>\n",
       "      <td>-0.163142</td>\n",
       "      <td>0.599033</td>\n",
       "      <td>-0.174432</td>\n",
       "      <td>0.284677</td>\n",
       "      <td>0.043859</td>\n",
       "      <td>0.022835</td>\n",
       "      <td>-0.037263</td>\n",
       "      <td>0.019065</td>\n",
       "      <td>-0.003609</td>\n",
       "      <td>0.014201</td>\n",
       "      <td>0.002529</td>\n",
       "      <td>-0.000056</td>\n",
       "    </tr>\n",
       "    <tr>\n",
       "      <th>3</th>\n",
       "      <td>-5.311434</td>\n",
       "      <td>0.405928</td>\n",
       "      <td>-0.455376</td>\n",
       "      <td>-0.907328</td>\n",
       "      <td>-0.560264</td>\n",
       "      <td>0.221203</td>\n",
       "      <td>-0.067948</td>\n",
       "      <td>-0.353350</td>\n",
       "      <td>-0.227634</td>\n",
       "      <td>-0.192468</td>\n",
       "      <td>0.075113</td>\n",
       "      <td>-0.297560</td>\n",
       "      <td>0.093821</td>\n",
       "      <td>-0.024650</td>\n",
       "      <td>-0.003945</td>\n",
       "      <td>-0.012419</td>\n",
       "      <td>0.006005</td>\n",
       "      <td>-0.003954</td>\n",
       "      <td>0.000182</td>\n",
       "    </tr>\n",
       "    <tr>\n",
       "      <th>4</th>\n",
       "      <td>-5.996517</td>\n",
       "      <td>0.218263</td>\n",
       "      <td>-0.422668</td>\n",
       "      <td>0.375590</td>\n",
       "      <td>-0.810379</td>\n",
       "      <td>-0.034351</td>\n",
       "      <td>-0.138582</td>\n",
       "      <td>-0.263390</td>\n",
       "      <td>-0.367273</td>\n",
       "      <td>-0.281547</td>\n",
       "      <td>0.083706</td>\n",
       "      <td>-0.635510</td>\n",
       "      <td>0.187241</td>\n",
       "      <td>-0.016432</td>\n",
       "      <td>-0.041868</td>\n",
       "      <td>0.002439</td>\n",
       "      <td>0.003164</td>\n",
       "      <td>-0.019029</td>\n",
       "      <td>-0.004613</td>\n",
       "    </tr>\n",
       "    <tr>\n",
       "      <th>...</th>\n",
       "      <td>...</td>\n",
       "      <td>...</td>\n",
       "      <td>...</td>\n",
       "      <td>...</td>\n",
       "      <td>...</td>\n",
       "      <td>...</td>\n",
       "      <td>...</td>\n",
       "      <td>...</td>\n",
       "      <td>...</td>\n",
       "      <td>...</td>\n",
       "      <td>...</td>\n",
       "      <td>...</td>\n",
       "      <td>...</td>\n",
       "      <td>...</td>\n",
       "      <td>...</td>\n",
       "      <td>...</td>\n",
       "      <td>...</td>\n",
       "      <td>...</td>\n",
       "      <td>...</td>\n",
       "    </tr>\n",
       "    <tr>\n",
       "      <th>10678</th>\n",
       "      <td>-8.244676</td>\n",
       "      <td>0.570330</td>\n",
       "      <td>-0.330801</td>\n",
       "      <td>-0.611271</td>\n",
       "      <td>0.128914</td>\n",
       "      <td>-0.165186</td>\n",
       "      <td>0.020936</td>\n",
       "      <td>-0.035716</td>\n",
       "      <td>0.146928</td>\n",
       "      <td>0.044375</td>\n",
       "      <td>0.051935</td>\n",
       "      <td>0.519763</td>\n",
       "      <td>-0.107180</td>\n",
       "      <td>0.105841</td>\n",
       "      <td>0.078336</td>\n",
       "      <td>0.318867</td>\n",
       "      <td>0.019773</td>\n",
       "      <td>0.000081</td>\n",
       "      <td>-0.045414</td>\n",
       "    </tr>\n",
       "    <tr>\n",
       "      <th>10679</th>\n",
       "      <td>-8.150404</td>\n",
       "      <td>0.579188</td>\n",
       "      <td>-0.609657</td>\n",
       "      <td>-0.502403</td>\n",
       "      <td>0.632170</td>\n",
       "      <td>-0.291231</td>\n",
       "      <td>0.037734</td>\n",
       "      <td>-0.507080</td>\n",
       "      <td>-0.135432</td>\n",
       "      <td>0.286915</td>\n",
       "      <td>-0.219001</td>\n",
       "      <td>0.453149</td>\n",
       "      <td>-0.284183</td>\n",
       "      <td>-0.072459</td>\n",
       "      <td>-0.003936</td>\n",
       "      <td>-0.035550</td>\n",
       "      <td>-0.015608</td>\n",
       "      <td>0.006435</td>\n",
       "      <td>0.006780</td>\n",
       "    </tr>\n",
       "    <tr>\n",
       "      <th>10680</th>\n",
       "      <td>-7.747517</td>\n",
       "      <td>0.575697</td>\n",
       "      <td>0.222420</td>\n",
       "      <td>0.755361</td>\n",
       "      <td>-0.305298</td>\n",
       "      <td>-0.446888</td>\n",
       "      <td>0.516728</td>\n",
       "      <td>0.053370</td>\n",
       "      <td>0.229847</td>\n",
       "      <td>0.068795</td>\n",
       "      <td>-0.034184</td>\n",
       "      <td>0.184236</td>\n",
       "      <td>-0.238091</td>\n",
       "      <td>-0.088847</td>\n",
       "      <td>-0.008155</td>\n",
       "      <td>-0.018926</td>\n",
       "      <td>0.003625</td>\n",
       "      <td>-0.001357</td>\n",
       "      <td>0.003958</td>\n",
       "    </tr>\n",
       "    <tr>\n",
       "      <th>10681</th>\n",
       "      <td>-8.097750</td>\n",
       "      <td>0.437364</td>\n",
       "      <td>-0.368142</td>\n",
       "      <td>0.701729</td>\n",
       "      <td>-0.158763</td>\n",
       "      <td>-0.465548</td>\n",
       "      <td>-0.106958</td>\n",
       "      <td>0.204050</td>\n",
       "      <td>0.029674</td>\n",
       "      <td>0.078968</td>\n",
       "      <td>0.080522</td>\n",
       "      <td>0.497157</td>\n",
       "      <td>0.773350</td>\n",
       "      <td>-0.153021</td>\n",
       "      <td>-0.079087</td>\n",
       "      <td>-0.041603</td>\n",
       "      <td>0.006440</td>\n",
       "      <td>-0.002558</td>\n",
       "      <td>0.002784</td>\n",
       "    </tr>\n",
       "    <tr>\n",
       "      <th>10682</th>\n",
       "      <td>-2.325404</td>\n",
       "      <td>-1.067274</td>\n",
       "      <td>-0.383798</td>\n",
       "      <td>0.038200</td>\n",
       "      <td>0.757911</td>\n",
       "      <td>-0.231332</td>\n",
       "      <td>0.295420</td>\n",
       "      <td>-0.894264</td>\n",
       "      <td>0.073976</td>\n",
       "      <td>-0.048665</td>\n",
       "      <td>0.157293</td>\n",
       "      <td>-0.133809</td>\n",
       "      <td>0.159315</td>\n",
       "      <td>-0.041032</td>\n",
       "      <td>-0.024306</td>\n",
       "      <td>-0.011750</td>\n",
       "      <td>0.008302</td>\n",
       "      <td>-0.005903</td>\n",
       "      <td>-0.002087</td>\n",
       "    </tr>\n",
       "  </tbody>\n",
       "</table>\n",
       "<p>10683 rows × 19 columns</p>\n",
       "</div>"
      ],
      "text/plain": [
       "       Principle_comp_1  Principle_comp_2  Principle_comp_3  Principle_comp_4  \\\n",
       "0             -7.947581          0.373171         -0.501452          0.665380   \n",
       "1             -3.268073          0.438061         -0.675354         -0.625813   \n",
       "2              8.328245         -0.638236          0.175262          0.209271   \n",
       "3             -5.311434          0.405928         -0.455376         -0.907328   \n",
       "4             -5.996517          0.218263         -0.422668          0.375590   \n",
       "...                 ...               ...               ...               ...   \n",
       "10678         -8.244676          0.570330         -0.330801         -0.611271   \n",
       "10679         -8.150404          0.579188         -0.609657         -0.502403   \n",
       "10680         -7.747517          0.575697          0.222420          0.755361   \n",
       "10681         -8.097750          0.437364         -0.368142          0.701729   \n",
       "10682         -2.325404         -1.067274         -0.383798          0.038200   \n",
       "\n",
       "       Principle_comp_5  Principle_comp_6  Principle_comp_7  Principle_comp_8  \\\n",
       "0             -0.657942          0.219975         -0.231671         -0.184565   \n",
       "1              0.713979         -0.425473          0.298649         -0.938271   \n",
       "2             -0.039057          0.069376          0.667765         -0.163142   \n",
       "3             -0.560264          0.221203         -0.067948         -0.353350   \n",
       "4             -0.810379         -0.034351         -0.138582         -0.263390   \n",
       "...                 ...               ...               ...               ...   \n",
       "10678          0.128914         -0.165186          0.020936         -0.035716   \n",
       "10679          0.632170         -0.291231          0.037734         -0.507080   \n",
       "10680         -0.305298         -0.446888          0.516728          0.053370   \n",
       "10681         -0.158763         -0.465548         -0.106958          0.204050   \n",
       "10682          0.757911         -0.231332          0.295420         -0.894264   \n",
       "\n",
       "       Principle_comp_9  Principle_comp_10  Principle_comp_11  \\\n",
       "0             -0.112383          -0.174751           0.096043   \n",
       "1             -0.070996          -0.094714           0.445716   \n",
       "2              0.599033          -0.174432           0.284677   \n",
       "3             -0.227634          -0.192468           0.075113   \n",
       "4             -0.367273          -0.281547           0.083706   \n",
       "...                 ...                ...                ...   \n",
       "10678          0.146928           0.044375           0.051935   \n",
       "10679         -0.135432           0.286915          -0.219001   \n",
       "10680          0.229847           0.068795          -0.034184   \n",
       "10681          0.029674           0.078968           0.080522   \n",
       "10682          0.073976          -0.048665           0.157293   \n",
       "\n",
       "       Principle_comp_12  Principle_comp_13  Principle_comp_14  \\\n",
       "0               0.057419          -0.119368          -0.019856   \n",
       "1              -0.224511           0.114279          -0.037738   \n",
       "2               0.043859           0.022835          -0.037263   \n",
       "3              -0.297560           0.093821          -0.024650   \n",
       "4              -0.635510           0.187241          -0.016432   \n",
       "...                  ...                ...                ...   \n",
       "10678           0.519763          -0.107180           0.105841   \n",
       "10679           0.453149          -0.284183          -0.072459   \n",
       "10680           0.184236          -0.238091          -0.088847   \n",
       "10681           0.497157           0.773350          -0.153021   \n",
       "10682          -0.133809           0.159315          -0.041032   \n",
       "\n",
       "       Principle_comp_15  Principle_comp_16  Principle_comp_17  \\\n",
       "0              -0.031504          -0.011276          -0.001358   \n",
       "1              -0.011135          -0.021060           0.013620   \n",
       "2               0.019065          -0.003609           0.014201   \n",
       "3              -0.003945          -0.012419           0.006005   \n",
       "4              -0.041868           0.002439           0.003164   \n",
       "...                  ...                ...                ...   \n",
       "10678           0.078336           0.318867           0.019773   \n",
       "10679          -0.003936          -0.035550          -0.015608   \n",
       "10680          -0.008155          -0.018926           0.003625   \n",
       "10681          -0.079087          -0.041603           0.006440   \n",
       "10682          -0.024306          -0.011750           0.008302   \n",
       "\n",
       "       Principle_comp_18  Principle_comp_19  \n",
       "0              -0.005206           0.002265  \n",
       "1              -0.008644           0.002747  \n",
       "2               0.002529          -0.000056  \n",
       "3              -0.003954           0.000182  \n",
       "4              -0.019029          -0.004613  \n",
       "...                  ...                ...  \n",
       "10678           0.000081          -0.045414  \n",
       "10679           0.006435           0.006780  \n",
       "10680          -0.001357           0.003958  \n",
       "10681          -0.002558           0.002784  \n",
       "10682          -0.005903          -0.002087  \n",
       "\n",
       "[10683 rows x 19 columns]"
      ]
     },
     "execution_count": 34,
     "metadata": {},
     "output_type": "execute_result"
    }
   ],
   "source": [
    "pca=PCA(n_components=19)\n",
    "new_X=pd.DataFrame(pca.fit_transform(X),columns=['Principle_comp_'+str(i) for i in range(1,20)])\n",
    "new_X"
   ]
  },
  {
   "cell_type": "markdown",
   "id": "3bf9f928-5d81-4a0a-a562-38a6ae1296a5",
   "metadata": {},
   "source": [
    "## Splitting the dataset into training and testing dataset"
   ]
  },
  {
   "cell_type": "code",
   "execution_count": 79,
   "id": "571d6cea-6d03-417d-b8a8-d061a281c1c7",
   "metadata": {},
   "outputs": [],
   "source": [
    "X_train,X_test,y_train,y_test=train_test_split(new_X,y,test_size=0.2)"
   ]
  },
  {
   "cell_type": "markdown",
   "id": "68d5d9a1-4f60-450d-b007-0e92cfcbbf15",
   "metadata": {},
   "source": [
    "## Training different ML models with the Training data and calculating the r2 score"
   ]
  },
  {
   "cell_type": "code",
   "execution_count": 80,
   "id": "cca3f8dd-dcc2-47d7-bf19-0592de2ab43a",
   "metadata": {},
   "outputs": [
    {
     "data": {
      "text/plain": [
       "0.63210389178576"
      ]
     },
     "execution_count": 80,
     "metadata": {},
     "output_type": "execute_result"
    }
   ],
   "source": [
    "model1=LinearRegression()\n",
    "model1.fit(X_train,y_train)\n",
    "y_pred1=model1.predict(X_test)\n",
    "r2_score(y_test,y_pred1)"
   ]
  },
  {
   "cell_type": "code",
   "execution_count": 81,
   "id": "409c14a1-914f-46bb-8b7d-e83ae850faa7",
   "metadata": {},
   "outputs": [
    {
     "data": {
      "text/plain": [
       "0.19532671604196472"
      ]
     },
     "execution_count": 81,
     "metadata": {},
     "output_type": "execute_result"
    }
   ],
   "source": [
    "model2=SVR()\n",
    "model2.fit(X_train,y_train)\n",
    "y_pred2=model2.predict(X_test)\n",
    "r2_score(y_test,y_pred2)"
   ]
  },
  {
   "cell_type": "code",
   "execution_count": 82,
   "id": "feabd365-b93a-4078-9681-8ec8965089f4",
   "metadata": {},
   "outputs": [
    {
     "data": {
      "text/plain": [
       "0.6505454734676259"
      ]
     },
     "execution_count": 82,
     "metadata": {},
     "output_type": "execute_result"
    }
   ],
   "source": [
    "model3=DecisionTreeRegressor()\n",
    "model3.fit(X_train,y_train)\n",
    "y_pred3=model3.predict(X_test)\n",
    "r2_score(y_test,y_pred3)"
   ]
  },
  {
   "cell_type": "code",
   "execution_count": 83,
   "id": "e598e382-42f1-46e9-a9aa-c0a8fb678098",
   "metadata": {},
   "outputs": [
    {
     "data": {
      "text/plain": [
       "0.6888195286511194"
      ]
     },
     "execution_count": 83,
     "metadata": {},
     "output_type": "execute_result"
    }
   ],
   "source": [
    "model4=RandomForestRegressor()\n",
    "model4.fit(X_train,y_train)\n",
    "y_pred4=model4.predict(X_test)\n",
    "r2_score(y_test,y_pred4)"
   ]
  },
  {
   "cell_type": "code",
   "execution_count": 84,
   "id": "1dcefe64-3138-48ec-adfa-dff635684706",
   "metadata": {},
   "outputs": [
    {
     "data": {
      "text/plain": [
       "0.6904577384615767"
      ]
     },
     "execution_count": 84,
     "metadata": {},
     "output_type": "execute_result"
    }
   ],
   "source": [
    "model5=BaggingRegressor()\n",
    "model5.fit(X_train,y_train)\n",
    "y_pred5=model5.predict(X_test)\n",
    "r2_score(y_test,y_pred5)"
   ]
  },
  {
   "cell_type": "code",
   "execution_count": 85,
   "id": "bf52cf46-1f60-44aa-9ea1-8a4ca8653d60",
   "metadata": {},
   "outputs": [
    {
     "data": {
      "text/plain": [
       "0.7437722553556491"
      ]
     },
     "execution_count": 85,
     "metadata": {},
     "output_type": "execute_result"
    }
   ],
   "source": [
    "model6=GradientBoostingRegressor()\n",
    "model6.fit(X_train,y_train)\n",
    "y_pred6=model6.predict(X_test)\n",
    "r2_score(y_test,y_pred6)"
   ]
  },
  {
   "cell_type": "code",
   "execution_count": 86,
   "id": "a19cb795-3f38-4dde-b5f9-9ead70c80b28",
   "metadata": {},
   "outputs": [
    {
     "data": {
      "text/plain": [
       "0.6888309875325884"
      ]
     },
     "execution_count": 86,
     "metadata": {},
     "output_type": "execute_result"
    }
   ],
   "source": [
    "model7=XGBRegressor()\n",
    "model7.fit(X_train,y_train)\n",
    "y_pred7=model7.predict(X_test)\n",
    "r2_score(y_test,y_pred7)"
   ]
  },
  {
   "cell_type": "markdown",
   "id": "d490f899-c56a-4668-a234-da5c0dd6c342",
   "metadata": {},
   "source": [
    "# The Maximum Accuracy that we can get from the models is 74%, so we can conclude that GradientBoosting is the best model to deploy in production"
   ]
  },
  {
   "cell_type": "code",
   "execution_count": null,
   "id": "84ce767c-c92d-4ee8-8a91-5b95bc8071ba",
   "metadata": {},
   "outputs": [],
   "source": []
  }
 ],
 "metadata": {
  "kernelspec": {
   "display_name": "Python 3 (ipykernel)",
   "language": "python",
   "name": "python3"
  },
  "language_info": {
   "codemirror_mode": {
    "name": "ipython",
    "version": 3
   },
   "file_extension": ".py",
   "mimetype": "text/x-python",
   "name": "python",
   "nbconvert_exporter": "python",
   "pygments_lexer": "ipython3",
   "version": "3.11.7"
  }
 },
 "nbformat": 4,
 "nbformat_minor": 5
}
